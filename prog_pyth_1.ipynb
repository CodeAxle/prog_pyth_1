{
 "cells": [
  {
   "cell_type": "markdown",
   "id": "36c4925c",
   "metadata": {},
   "source": [
    "# 1."
   ]
  },
  {
   "cell_type": "code",
   "execution_count": 2,
   "id": "0e913f23",
   "metadata": {},
   "outputs": [
    {
     "name": "stdout",
     "output_type": "stream",
     "text": [
      "Hello Python\n"
     ]
    }
   ],
   "source": [
    "# code:\n",
    "print(\"Hello Python\")"
   ]
  },
  {
   "cell_type": "markdown",
   "id": "efb49860",
   "metadata": {},
   "source": [
    "# 2."
   ]
  },
  {
   "cell_type": "code",
   "execution_count": 3,
   "id": "9cdde929",
   "metadata": {},
   "outputs": [
    {
     "name": "stdout",
     "output_type": "stream",
     "text": [
      "Sum: 15\n",
      "Division: 2.0\n"
     ]
    }
   ],
   "source": [
    "# code:\n",
    "# Define two numbers\n",
    "num1 = 10\n",
    "num2 = 5\n",
    "\n",
    "# Perform addition\n",
    "sum_result = num1 + num2\n",
    "print(\"Sum:\", sum_result)\n",
    "\n",
    "# Perform division\n",
    "div_result = num1 / num2\n",
    "print(\"Division:\", div_result)"
   ]
  },
  {
   "cell_type": "markdown",
   "id": "82d5a71b",
   "metadata": {},
   "source": [
    "# 3."
   ]
  },
  {
   "cell_type": "code",
   "execution_count": 4,
   "id": "de63ca0f",
   "metadata": {},
   "outputs": [
    {
     "name": "stdout",
     "output_type": "stream",
     "text": [
      "Enter the base of the triangle: 5\n",
      "Enter the height of the triangle: 5\n",
      "The area of the triangle with base 5.0 and height 5.0 is: 12.5\n"
     ]
    }
   ],
   "source": [
    "# Function to calculate the area of a triangle\n",
    "def calculate_triangle_area(base, height):\n",
    "    return 0.5 * base * height\n",
    "\n",
    "# Input base and height from the user\n",
    "base = float(input(\"Enter the base of the triangle: \"))\n",
    "height = float(input(\"Enter the height of the triangle: \"))\n",
    "\n",
    "# Calculate and print the area of the triangle\n",
    "area = calculate_triangle_area(base, height)\n",
    "print(f\"The area of the triangle with base {base} and height {height} is: {area}\")"
   ]
  },
  {
   "cell_type": "markdown",
   "id": "446b0548",
   "metadata": {},
   "source": [
    "# 4."
   ]
  },
  {
   "cell_type": "code",
   "execution_count": 5,
   "id": "74ddd385",
   "metadata": {},
   "outputs": [
    {
     "name": "stdout",
     "output_type": "stream",
     "text": [
      "After swapping:\n",
      "a = 10\n",
      "b = 5\n"
     ]
    }
   ],
   "source": [
    "# Initial values\n",
    "a = 5\n",
    "b = 10\n",
    "\n",
    "# Swap using a temporary variable\n",
    "temp = a\n",
    "a = b\n",
    "b = temp\n",
    "\n",
    "print(\"After swapping:\")\n",
    "print(\"a =\", a)\n",
    "print(\"b =\", b)"
   ]
  },
  {
   "cell_type": "markdown",
   "id": "12cd631f",
   "metadata": {},
   "source": [
    "# 5."
   ]
  },
  {
   "cell_type": "code",
   "execution_count": 6,
   "id": "9d356d1f",
   "metadata": {},
   "outputs": [
    {
     "name": "stdout",
     "output_type": "stream",
     "text": [
      "Random number: 41\n"
     ]
    }
   ],
   "source": [
    "import random\n",
    "\n",
    "# Generate a random number between 1 and 100\n",
    "random_number = random.randint(1, 100)\n",
    "\n",
    "print(\"Random number:\", random_number)"
   ]
  }
 ],
 "metadata": {
  "kernelspec": {
   "display_name": "Python 3 (ipykernel)",
   "language": "python",
   "name": "python3"
  },
  "language_info": {
   "codemirror_mode": {
    "name": "ipython",
    "version": 3
   },
   "file_extension": ".py",
   "mimetype": "text/x-python",
   "name": "python",
   "nbconvert_exporter": "python",
   "pygments_lexer": "ipython3",
   "version": "3.11.5"
  }
 },
 "nbformat": 4,
 "nbformat_minor": 5
}
